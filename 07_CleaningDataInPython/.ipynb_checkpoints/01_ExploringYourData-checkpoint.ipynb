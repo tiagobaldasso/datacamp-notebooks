{
 "cells": [
  {
   "cell_type": "markdown",
   "metadata": {},
   "source": [
    "## 1. Exploring your data"
   ]
  },
  {
   "cell_type": "markdown",
   "metadata": {},
   "source": [
    "### Common Data Problems"
   ]
  },
  {
   "cell_type": "markdown",
   "metadata": {},
   "source": [
    "* Inconsistent column names\n",
    "* Missing data\n",
    "* Outliers\n",
    "* Duplicate rows\n",
    "* Untidy\n",
    "* Need to process columns\n",
    "* Column types can signal unexpecte data values"
   ]
  },
  {
   "cell_type": "markdown",
   "metadata": {},
   "source": [
    "### Visually Inspecting data"
   ]
  },
  {
   "cell_type": "code",
   "execution_count": null,
   "metadata": {
    "collapsed": true
   },
   "outputs": [],
   "source": [
    "#Inspecting heads and tails:\n",
    "\n",
    "df.head() #gives first 5 rows\n",
    "df.tail() #gives last 5 rows"
   ]
  },
  {
   "cell_type": "code",
   "execution_count": null,
   "metadata": {
    "collapsed": true
   },
   "outputs": [],
   "source": [
    "#Inspecting the column names with the .columns attribute\n",
    "\n",
    "df.columns"
   ]
  },
  {
   "cell_type": "code",
   "execution_count": null,
   "metadata": {
    "collapsed": true
   },
   "outputs": [],
   "source": [
    "#Inspecting the number of rows/columns with the .shape attribute\n",
    "\n",
    "df.shape"
   ]
  },
  {
   "cell_type": "code",
   "execution_count": null,
   "metadata": {
    "collapsed": true
   },
   "outputs": [],
   "source": [
    "# The .info() method gives us useful info on the dataframe, such as:\n",
    "# number of rows, number of columns, number of non-missing values in each column, and the data type stored in each column.\n",
    "\n",
    "df.info()"
   ]
  },
  {
   "cell_type": "markdown",
   "metadata": {},
   "source": [
    "### Exploratory Data Analysis"
   ]
  },
  {
   "cell_type": "code",
   "execution_count": null,
   "metadata": {
    "collapsed": true
   },
   "outputs": [],
   "source": [
    "# Using .value_counts(dropna=False) to perform frequency counts\n",
    "\n",
    "df.value_counts(dropna=False)\n",
    "\n",
    "# You can chain methods too, such as .value_counts() + head()\n",
    "\n",
    "df.value_counts().head()"
   ]
  },
  {
   "cell_type": "markdown",
   "metadata": {},
   "source": [
    "#### Summary Statistics"
   ]
  },
  {
   "cell_type": "markdown",
   "metadata": {},
   "source": [
    "* Useful to spot outliers;\n",
    "* Get a sense of the numeric data"
   ]
  },
  {
   "cell_type": "code",
   "execution_count": null,
   "metadata": {
    "collapsed": true
   },
   "outputs": [],
   "source": [
    "# The .describe() method returns count, mean, std deviation, min, max, etc...\n",
    "\n",
    "df.describe()"
   ]
  },
  {
   "cell_type": "markdown",
   "metadata": {},
   "source": [
    "### Visual Exploratory Data Analysis"
   ]
  },
  {
   "cell_type": "markdown",
   "metadata": {},
   "source": [
    "* Great to spot outliers too\n",
    "* More than just looking for patterns\n",
    "* Helps define data cleaning steps\n",
    "\n",
    "\n",
    "#### BARPLOTS\n",
    "\n",
    "\n",
    "* for discrete data\n",
    "\n",
    "#### HISTOGRAMS\n",
    "\n",
    "* for continuous data counts\n",
    "\n",
    "\n",
    "\n",
    "**Remember**: not all outliers are bad data"
   ]
  },
  {
   "cell_type": "code",
   "execution_count": 2,
   "metadata": {
    "collapsed": true
   },
   "outputs": [],
   "source": [
    "# Building an HISTOGRAM with .plot('hist')\n",
    "\n",
    "import matplotlib.pyplot as plt\n",
    "df.population.plot(kind='hist')\n",
    "plt.show()\n",
    "\n",
    "# Identifying an outlier\n",
    "\n",
    "df.[df.population > 1000000] #inside the brackets, the 'slice' u want to analyze"
   ]
  },
  {
   "cell_type": "markdown",
   "metadata": {},
   "source": [
    "#### BOX PLOTS"
   ]
  },
  {
   "cell_type": "markdown",
   "metadata": {},
   "source": [
    "* Visualize basic summary statistics\n",
    "* Boxplots show outliers, min/max, 25/50/75 percentiles in a candlestick-like display\n"
   ]
  },
  {
   "cell_type": "code",
   "execution_count": null,
   "metadata": {
    "collapsed": true
   },
   "outputs": [],
   "source": [
    "#Building a BOXPLOT with .boxplot()\n",
    "\n",
    "df.boxplot(column='population', by='continent')\n",
    "\n",
    "# In the column= parameter we put the column we want to compare and in the by= parameter the column we want to compare the boxplots across."
   ]
  },
  {
   "attachments": {
    "boxplot.png": {
     "image/png": "[encoded data removed]"
    }
   },
   "cell_type": "markdown",
   "metadata": {},
   "source": [
    "![boxplot.png](attachment:boxplot.png)"
   ]
  },
  {
   "cell_type": "markdown",
   "metadata": {},
   "source": [
    "#### SCATTER PLOTS"
   ]
  },
  {
   "cell_type": "markdown",
   "metadata": {},
   "source": [
    "* Used to identify relationship between 2 numeric variables\n",
    "* Flag potentialy bad data\n",
    "    * Take care of errors not found when looking at only 1 variable"
   ]
  },
  {
   "cell_type": "code",
   "execution_count": null,
   "metadata": {
    "collapsed": true
   },
   "outputs": [],
   "source": [
    "# Building a SCATTERPLOT with .plot(kind='scatter', x='', y='')\n",
    "\n",
    "df.plot(kind='scatter', x='columnname1', y='columnname2', rot=70)"
   ]
  }
 ],
 "metadata": {
  "kernelspec": {
   "display_name": "Python 3",
   "language": "python",
   "name": "python3"
  },
  "language_info": {
   "codemirror_mode": {
    "name": "ipython",
    "version": 3
   },
   "file_extension": ".py",
   "mimetype": "text/x-python",
   "name": "python",
   "nbconvert_exporter": "python",
   "pygments_lexer": "ipython3",
   "version": "3.6.3"
  }
 },
 "nbformat": 4,
 "nbformat_minor": 2
}
